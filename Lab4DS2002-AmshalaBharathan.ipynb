{
 "cells": [
  {
   "cell_type": "code",
   "execution_count": 1,
   "id": "85f37360",
   "metadata": {},
   "outputs": [],
   "source": [
    "import json\n",
    "import requests\n",
    "import pandas\n",
    "import yfinance as yf\n",
    "import utils\n",
    "from operator import itemgetter"
   ]
  },
  {
   "cell_type": "code",
   "execution_count": 2,
   "id": "aea97434",
   "metadata": {},
   "outputs": [
    {
     "name": "stdout",
     "output_type": "stream",
     "text": [
      "goog\n"
     ]
    },
    {
     "data": {
      "text/plain": [
       "'goog'"
      ]
     },
     "execution_count": 2,
     "metadata": {},
     "output_type": "execute_result"
    }
   ],
   "source": [
    "stock = input()\n",
    "stock"
   ]
  },
  {
   "cell_type": "code",
   "execution_count": 3,
   "id": "07cb73b7",
   "metadata": {},
   "outputs": [],
   "source": [
    "data = yf.Ticker(stock)"
   ]
  },
  {
   "cell_type": "code",
   "execution_count": 4,
   "id": "0ae59f42",
   "metadata": {
    "scrolled": true
   },
   "outputs": [
    {
     "data": {
      "text/plain": [
       "yfinance.Ticker object <GOOG>"
      ]
     },
     "execution_count": 4,
     "metadata": {},
     "output_type": "execute_result"
    }
   ],
   "source": [
    "data"
   ]
  },
  {
   "cell_type": "code",
   "execution_count": 5,
   "id": "36be832c",
   "metadata": {},
   "outputs": [],
   "source": [
    "info = data.info\n",
    "info\n",
    "if info['regularMarketPrice'] == None and info['preMarketPrice'] == None and info['logo_url'] == '':\n",
    "     exit()"
   ]
  },
  {
   "cell_type": "code",
   "execution_count": 6,
   "id": "46b35b1b",
   "metadata": {
    "scrolled": true
   },
   "outputs": [
    {
     "data": {
      "text/html": [
       "<div>\n",
       "<style scoped>\n",
       "    .dataframe tbody tr th:only-of-type {\n",
       "        vertical-align: middle;\n",
       "    }\n",
       "\n",
       "    .dataframe tbody tr th {\n",
       "        vertical-align: top;\n",
       "    }\n",
       "\n",
       "    .dataframe thead th {\n",
       "        text-align: right;\n",
       "    }\n",
       "</style>\n",
       "<table border=\"1\" class=\"dataframe\">\n",
       "  <thead>\n",
       "    <tr style=\"text-align: right;\">\n",
       "      <th></th>\n",
       "      <th>2021-12-31</th>\n",
       "      <th>2020-12-31</th>\n",
       "      <th>2019-12-31</th>\n",
       "      <th>2018-12-31</th>\n",
       "    </tr>\n",
       "  </thead>\n",
       "  <tbody>\n",
       "    <tr>\n",
       "      <th>Intangible Assets</th>\n",
       "      <td>1.417000e+09</td>\n",
       "      <td>1.445000e+09</td>\n",
       "      <td>1.979000e+09</td>\n",
       "      <td>2.220000e+09</td>\n",
       "    </tr>\n",
       "    <tr>\n",
       "      <th>Total Liab</th>\n",
       "      <td>1.076330e+11</td>\n",
       "      <td>9.707200e+10</td>\n",
       "      <td>7.446700e+10</td>\n",
       "      <td>5.516400e+10</td>\n",
       "    </tr>\n",
       "    <tr>\n",
       "      <th>Total Stockholder Equity</th>\n",
       "      <td>2.516350e+11</td>\n",
       "      <td>2.225440e+11</td>\n",
       "      <td>2.014420e+11</td>\n",
       "      <td>1.776280e+11</td>\n",
       "    </tr>\n",
       "    <tr>\n",
       "      <th>Other Current Liab</th>\n",
       "      <td>2.920800e+10</td>\n",
       "      <td>2.800600e+10</td>\n",
       "      <td>2.215900e+10</td>\n",
       "      <td>1.761200e+10</td>\n",
       "    </tr>\n",
       "    <tr>\n",
       "      <th>Total Assets</th>\n",
       "      <td>3.592680e+11</td>\n",
       "      <td>3.196160e+11</td>\n",
       "      <td>2.759090e+11</td>\n",
       "      <td>2.327920e+11</td>\n",
       "    </tr>\n",
       "    <tr>\n",
       "      <th>Common Stock</th>\n",
       "      <td>6.177400e+10</td>\n",
       "      <td>5.851000e+10</td>\n",
       "      <td>5.055200e+10</td>\n",
       "      <td>4.504900e+10</td>\n",
       "    </tr>\n",
       "    <tr>\n",
       "      <th>Other Current Assets</th>\n",
       "      <td>7.054000e+09</td>\n",
       "      <td>5.490000e+09</td>\n",
       "      <td>4.412000e+09</td>\n",
       "      <td>4.236000e+09</td>\n",
       "    </tr>\n",
       "    <tr>\n",
       "      <th>Retained Earnings</th>\n",
       "      <td>1.914840e+11</td>\n",
       "      <td>1.634010e+11</td>\n",
       "      <td>1.521220e+11</td>\n",
       "      <td>1.348850e+11</td>\n",
       "    </tr>\n",
       "    <tr>\n",
       "      <th>Other Liab</th>\n",
       "      <td>1.717300e+10</td>\n",
       "      <td>1.516000e+10</td>\n",
       "      <td>1.447800e+10</td>\n",
       "      <td>1.653200e+10</td>\n",
       "    </tr>\n",
       "    <tr>\n",
       "      <th>Good Will</th>\n",
       "      <td>2.295600e+10</td>\n",
       "      <td>2.117500e+10</td>\n",
       "      <td>2.062400e+10</td>\n",
       "      <td>1.788800e+10</td>\n",
       "    </tr>\n",
       "    <tr>\n",
       "      <th>Gains Losses Not Affecting Retained Earnings</th>\n",
       "      <td>-1.623000e+09</td>\n",
       "      <td>6.330000e+08</td>\n",
       "      <td>-1.232000e+09</td>\n",
       "      <td>-2.306000e+09</td>\n",
       "    </tr>\n",
       "    <tr>\n",
       "      <th>Other Assets</th>\n",
       "      <td>6.645000e+09</td>\n",
       "      <td>5.037000e+09</td>\n",
       "      <td>3.063000e+09</td>\n",
       "      <td>3.430000e+09</td>\n",
       "    </tr>\n",
       "    <tr>\n",
       "      <th>Cash</th>\n",
       "      <td>2.094500e+10</td>\n",
       "      <td>2.646500e+10</td>\n",
       "      <td>1.849800e+10</td>\n",
       "      <td>1.670100e+10</td>\n",
       "    </tr>\n",
       "    <tr>\n",
       "      <th>Total Current Liabilities</th>\n",
       "      <td>6.425400e+10</td>\n",
       "      <td>5.683400e+10</td>\n",
       "      <td>4.522100e+10</td>\n",
       "      <td>3.462000e+10</td>\n",
       "    </tr>\n",
       "    <tr>\n",
       "      <th>Deferred Long Term Asset Charges</th>\n",
       "      <td>1.284000e+09</td>\n",
       "      <td>1.084000e+09</td>\n",
       "      <td>7.210000e+08</td>\n",
       "      <td>7.370000e+08</td>\n",
       "    </tr>\n",
       "    <tr>\n",
       "      <th>Other Stockholder Equity</th>\n",
       "      <td>-1.623000e+09</td>\n",
       "      <td>6.330000e+08</td>\n",
       "      <td>-1.232000e+09</td>\n",
       "      <td>-2.306000e+09</td>\n",
       "    </tr>\n",
       "    <tr>\n",
       "      <th>Property Plant Equipment</th>\n",
       "      <td>1.105580e+11</td>\n",
       "      <td>9.696000e+10</td>\n",
       "      <td>8.458700e+10</td>\n",
       "      <td>5.971900e+10</td>\n",
       "    </tr>\n",
       "    <tr>\n",
       "      <th>Total Current Assets</th>\n",
       "      <td>1.881430e+11</td>\n",
       "      <td>1.742960e+11</td>\n",
       "      <td>1.525780e+11</td>\n",
       "      <td>1.356760e+11</td>\n",
       "    </tr>\n",
       "    <tr>\n",
       "      <th>Long Term Investments</th>\n",
       "      <td>2.954900e+10</td>\n",
       "      <td>2.070300e+10</td>\n",
       "      <td>1.307800e+10</td>\n",
       "      <td>1.385900e+10</td>\n",
       "    </tr>\n",
       "    <tr>\n",
       "      <th>Net Tangible Assets</th>\n",
       "      <td>2.272620e+11</td>\n",
       "      <td>1.999240e+11</td>\n",
       "      <td>1.788390e+11</td>\n",
       "      <td>1.575200e+11</td>\n",
       "    </tr>\n",
       "    <tr>\n",
       "      <th>Short Term Investments</th>\n",
       "      <td>1.187040e+11</td>\n",
       "      <td>1.102290e+11</td>\n",
       "      <td>1.011770e+11</td>\n",
       "      <td>9.243900e+10</td>\n",
       "    </tr>\n",
       "    <tr>\n",
       "      <th>Net Receivables</th>\n",
       "      <td>4.027000e+10</td>\n",
       "      <td>3.138400e+10</td>\n",
       "      <td>2.749200e+10</td>\n",
       "      <td>2.119300e+10</td>\n",
       "    </tr>\n",
       "    <tr>\n",
       "      <th>Long Term Debt</th>\n",
       "      <td>1.284400e+10</td>\n",
       "      <td>1.283200e+10</td>\n",
       "      <td>3.958000e+09</td>\n",
       "      <td>3.950000e+09</td>\n",
       "    </tr>\n",
       "    <tr>\n",
       "      <th>Inventory</th>\n",
       "      <td>1.170000e+09</td>\n",
       "      <td>7.280000e+08</td>\n",
       "      <td>9.990000e+08</td>\n",
       "      <td>1.107000e+09</td>\n",
       "    </tr>\n",
       "    <tr>\n",
       "      <th>Accounts Payable</th>\n",
       "      <td>6.037000e+09</td>\n",
       "      <td>5.589000e+09</td>\n",
       "      <td>5.561000e+09</td>\n",
       "      <td>4.378000e+09</td>\n",
       "    </tr>\n",
       "    <tr>\n",
       "      <th>Short Long Term Debt</th>\n",
       "      <td>NaN</td>\n",
       "      <td>9.990000e+08</td>\n",
       "      <td>NaN</td>\n",
       "      <td>NaN</td>\n",
       "    </tr>\n",
       "  </tbody>\n",
       "</table>\n",
       "</div>"
      ],
      "text/plain": [
       "                                                2021-12-31    2020-12-31  \\\n",
       "Intangible Assets                             1.417000e+09  1.445000e+09   \n",
       "Total Liab                                    1.076330e+11  9.707200e+10   \n",
       "Total Stockholder Equity                      2.516350e+11  2.225440e+11   \n",
       "Other Current Liab                            2.920800e+10  2.800600e+10   \n",
       "Total Assets                                  3.592680e+11  3.196160e+11   \n",
       "Common Stock                                  6.177400e+10  5.851000e+10   \n",
       "Other Current Assets                          7.054000e+09  5.490000e+09   \n",
       "Retained Earnings                             1.914840e+11  1.634010e+11   \n",
       "Other Liab                                    1.717300e+10  1.516000e+10   \n",
       "Good Will                                     2.295600e+10  2.117500e+10   \n",
       "Gains Losses Not Affecting Retained Earnings -1.623000e+09  6.330000e+08   \n",
       "Other Assets                                  6.645000e+09  5.037000e+09   \n",
       "Cash                                          2.094500e+10  2.646500e+10   \n",
       "Total Current Liabilities                     6.425400e+10  5.683400e+10   \n",
       "Deferred Long Term Asset Charges              1.284000e+09  1.084000e+09   \n",
       "Other Stockholder Equity                     -1.623000e+09  6.330000e+08   \n",
       "Property Plant Equipment                      1.105580e+11  9.696000e+10   \n",
       "Total Current Assets                          1.881430e+11  1.742960e+11   \n",
       "Long Term Investments                         2.954900e+10  2.070300e+10   \n",
       "Net Tangible Assets                           2.272620e+11  1.999240e+11   \n",
       "Short Term Investments                        1.187040e+11  1.102290e+11   \n",
       "Net Receivables                               4.027000e+10  3.138400e+10   \n",
       "Long Term Debt                                1.284400e+10  1.283200e+10   \n",
       "Inventory                                     1.170000e+09  7.280000e+08   \n",
       "Accounts Payable                              6.037000e+09  5.589000e+09   \n",
       "Short Long Term Debt                                   NaN  9.990000e+08   \n",
       "\n",
       "                                                2019-12-31    2018-12-31  \n",
       "Intangible Assets                             1.979000e+09  2.220000e+09  \n",
       "Total Liab                                    7.446700e+10  5.516400e+10  \n",
       "Total Stockholder Equity                      2.014420e+11  1.776280e+11  \n",
       "Other Current Liab                            2.215900e+10  1.761200e+10  \n",
       "Total Assets                                  2.759090e+11  2.327920e+11  \n",
       "Common Stock                                  5.055200e+10  4.504900e+10  \n",
       "Other Current Assets                          4.412000e+09  4.236000e+09  \n",
       "Retained Earnings                             1.521220e+11  1.348850e+11  \n",
       "Other Liab                                    1.447800e+10  1.653200e+10  \n",
       "Good Will                                     2.062400e+10  1.788800e+10  \n",
       "Gains Losses Not Affecting Retained Earnings -1.232000e+09 -2.306000e+09  \n",
       "Other Assets                                  3.063000e+09  3.430000e+09  \n",
       "Cash                                          1.849800e+10  1.670100e+10  \n",
       "Total Current Liabilities                     4.522100e+10  3.462000e+10  \n",
       "Deferred Long Term Asset Charges              7.210000e+08  7.370000e+08  \n",
       "Other Stockholder Equity                     -1.232000e+09 -2.306000e+09  \n",
       "Property Plant Equipment                      8.458700e+10  5.971900e+10  \n",
       "Total Current Assets                          1.525780e+11  1.356760e+11  \n",
       "Long Term Investments                         1.307800e+10  1.385900e+10  \n",
       "Net Tangible Assets                           1.788390e+11  1.575200e+11  \n",
       "Short Term Investments                        1.011770e+11  9.243900e+10  \n",
       "Net Receivables                               2.749200e+10  2.119300e+10  \n",
       "Long Term Debt                                3.958000e+09  3.950000e+09  \n",
       "Inventory                                     9.990000e+08  1.107000e+09  \n",
       "Accounts Payable                              5.561000e+09  4.378000e+09  \n",
       "Short Long Term Debt                                   NaN           NaN  "
      ]
     },
     "execution_count": 6,
     "metadata": {},
     "output_type": "execute_result"
    }
   ],
   "source": [
    "data.balance_sheet"
   ]
  },
  {
   "cell_type": "code",
   "execution_count": 7,
   "id": "afcb53a7",
   "metadata": {},
   "outputs": [
    {
     "data": {
      "text/plain": [
       "{'User-Agent': 'Mozilla/5.0 (Macintosh; Intel Mac OS X 10_10_1) AppleWebKit/537.36 (KHTML, like Gecko) Chrome/39.0.2171.95 Safari/537.36'}"
      ]
     },
     "execution_count": 7,
     "metadata": {},
     "output_type": "execute_result"
    }
   ],
   "source": [
    "url = \"https://query1.finance.yahoo.com/v10/finance/quoteSummary/\" + str(stock)+\"?modules=financialData\"\n",
    "\n",
    "user_agent_headers = {\n",
    "    'User-Agent': 'Mozilla/5.0 (Macintosh; Intel Mac OS X 10_10_1) AppleWebKit/537.36 (KHTML, like Gecko) Chrome/39.0.2171.95 Safari/537.36'}\n",
    "\n",
    "headers=user_agent_headers\n",
    "headers\n",
    "#querystring = querystring = {\"symbol\":stock}\n",
    "#querystring = querystring = {\"symbols\":\"msft,goog\"}\n",
    "\n",
    "\n",
    "#querystring"
   ]
  },
  {
   "cell_type": "code",
   "execution_count": 8,
   "id": "0a02ebfb",
   "metadata": {},
   "outputs": [],
   "source": [
    "response = requests.request(\"GET\", url, headers=headers)\n",
    "if len(response.content) == 0:\n",
    "    exit()"
   ]
  },
  {
   "cell_type": "code",
   "execution_count": 9,
   "id": "1caca671",
   "metadata": {},
   "outputs": [
    {
     "data": {
      "text/plain": [
       "b'{\"quoteSummary\":{\"result\":[{\"financialData\":{\"maxAge\":86400,\"currentPrice\":{\"raw\":97.18,\"fmt\":\"97.18\"},\"targetHighPrice\":{\"raw\":164.5,\"fmt\":\"164.50\"},\"targetLowPrice\":{\"raw\":132.0,\"fmt\":\"132.00\"},\"targetMeanPrice\":{\"raw\":148.95,\"fmt\":\"148.95\"},\"targetMedianPrice\":{\"raw\":150.0,\"fmt\":\"150.00\"},\"recommendationMean\":{\"raw\":1.5,\"fmt\":\"1.50\"},\"recommendationKey\":\"strong_buy\",\"numberOfAnalystOpinions\":{\"raw\":10,\"fmt\":\"10\",\"longFmt\":\"10\"},\"totalCash\":{\"raw\":124997001216,\"fmt\":\"125B\",\"longFmt\":\"124,997,001,216\"},\"totalCashPerShare\":{\"raw\":9.583,\"fmt\":\"9.58\"},\"ebitda\":{\"raw\":96886996992,\"fmt\":\"96.89B\",\"longFmt\":\"96,886,996,992\"},\"totalDebt\":{\"raw\":28810000384,\"fmt\":\"28.81B\",\"longFmt\":\"28,810,000,384\"},\"quickRatio\":{\"raw\":2.642,\"fmt\":\"2.64\"},\"currentRatio\":{\"raw\":2.809,\"fmt\":\"2.81\"},\"totalRevenue\":{\"raw\":278139011072,\"fmt\":\"278.14B\",\"longFmt\":\"278,139,011,072\"},\"debtToEquity\":{\"raw\":11.28,\"fmt\":\"11.28\"},\"revenuePerShare\":{\"raw\":21.03,\"fmt\":\"21.03\"},\"returnOnAssets\":{\"raw\":0.14927,\"fmt\":\"14.93%\"},\"returnOnEquity\":{\"raw\":0.29216,\"fmt\":\"29.22%\"},\"grossProfits\":{\"raw\":146698000000,\"fmt\":\"146.7B\",\"longFmt\":\"146,698,000,000\"},\"freeCashflow\":{\"raw\":51070373888,\"fmt\":\"51.07B\",\"longFmt\":\"51,070,373,888\"},\"operatingCashflow\":{\"raw\":95001001984,\"fmt\":\"95B\",\"longFmt\":\"95,001,001,984\"},\"earningsGrowth\":{\"raw\":-0.113,\"fmt\":\"-11.30%\"},\"revenueGrowth\":{\"raw\":0.126,\"fmt\":\"12.60%\"},\"grossMargins\":{\"raw\":0.56744,\"fmt\":\"56.74%\"},\"ebitdaMargins\":{\"raw\":0.34834,\"fmt\":\"34.83%\"},\"operatingMargins\":{\"raw\":0.29648,\"fmt\":\"29.65%\"},\"profitMargins\":{\"raw\":0.25892,\"fmt\":\"25.89%\"},\"financialCurrency\":\"USD\"}}],\"error\":null}}'"
      ]
     },
     "execution_count": 9,
     "metadata": {},
     "output_type": "execute_result"
    }
   ],
   "source": [
    "response.content"
   ]
  },
  {
   "cell_type": "code",
   "execution_count": 10,
   "id": "22886dfb",
   "metadata": {},
   "outputs": [],
   "source": [
    "url2 = \"https://query1.finance.yahoo.com/v10/finance/quoteSummary/\" + str(stock)+\"?modules=quoteType\"\n",
    "\n",
    "user_agent_headers2 = {\n",
    "    'User-Agent': 'Mozilla/5.0 (Macintosh; Intel Mac OS X 10_10_1) AppleWebKit/537.36 (KHTML, like Gecko) Chrome/39.0.2171.95 Safari/537.36'}\n",
    "\n",
    "headers2=user_agent_headers\n",
    "headers2\n",
    "querystring = querystring = {\"symbol\":stock}\n",
    "#querystring = querystring = {\"symbols\":\"msft,goog\"}\n",
    "\n"
   ]
  },
  {
   "cell_type": "code",
   "execution_count": 11,
   "id": "aeca8852",
   "metadata": {},
   "outputs": [],
   "source": [
    "response2 = requests.request(\"GET\", url2, headers=headers2)\n",
    "if len(response2.content) == 0:\n",
    "    exit()"
   ]
  },
  {
   "cell_type": "code",
   "execution_count": 12,
   "id": "26ee2152",
   "metadata": {},
   "outputs": [],
   "source": [
    "stock_json = response.json()"
   ]
  },
  {
   "cell_type": "code",
   "execution_count": 13,
   "id": "728f90b2",
   "metadata": {
    "scrolled": true
   },
   "outputs": [
    {
     "data": {
      "text/plain": [
       "{'quoteSummary': {'result': [{'financialData': {'maxAge': 86400,\n",
       "     'currentPrice': {'raw': 97.18, 'fmt': '97.18'},\n",
       "     'targetHighPrice': {'raw': 164.5, 'fmt': '164.50'},\n",
       "     'targetLowPrice': {'raw': 132.0, 'fmt': '132.00'},\n",
       "     'targetMeanPrice': {'raw': 148.95, 'fmt': '148.95'},\n",
       "     'targetMedianPrice': {'raw': 150.0, 'fmt': '150.00'},\n",
       "     'recommendationMean': {'raw': 1.5, 'fmt': '1.50'},\n",
       "     'recommendationKey': 'strong_buy',\n",
       "     'numberOfAnalystOpinions': {'raw': 10, 'fmt': '10', 'longFmt': '10'},\n",
       "     'totalCash': {'raw': 124997001216,\n",
       "      'fmt': '125B',\n",
       "      'longFmt': '124,997,001,216'},\n",
       "     'totalCashPerShare': {'raw': 9.583, 'fmt': '9.58'},\n",
       "     'ebitda': {'raw': 96886996992,\n",
       "      'fmt': '96.89B',\n",
       "      'longFmt': '96,886,996,992'},\n",
       "     'totalDebt': {'raw': 28810000384,\n",
       "      'fmt': '28.81B',\n",
       "      'longFmt': '28,810,000,384'},\n",
       "     'quickRatio': {'raw': 2.642, 'fmt': '2.64'},\n",
       "     'currentRatio': {'raw': 2.809, 'fmt': '2.81'},\n",
       "     'totalRevenue': {'raw': 278139011072,\n",
       "      'fmt': '278.14B',\n",
       "      'longFmt': '278,139,011,072'},\n",
       "     'debtToEquity': {'raw': 11.28, 'fmt': '11.28'},\n",
       "     'revenuePerShare': {'raw': 21.03, 'fmt': '21.03'},\n",
       "     'returnOnAssets': {'raw': 0.14927, 'fmt': '14.93%'},\n",
       "     'returnOnEquity': {'raw': 0.29216, 'fmt': '29.22%'},\n",
       "     'grossProfits': {'raw': 146698000000,\n",
       "      'fmt': '146.7B',\n",
       "      'longFmt': '146,698,000,000'},\n",
       "     'freeCashflow': {'raw': 51070373888,\n",
       "      'fmt': '51.07B',\n",
       "      'longFmt': '51,070,373,888'},\n",
       "     'operatingCashflow': {'raw': 95001001984,\n",
       "      'fmt': '95B',\n",
       "      'longFmt': '95,001,001,984'},\n",
       "     'earningsGrowth': {'raw': -0.113, 'fmt': '-11.30%'},\n",
       "     'revenueGrowth': {'raw': 0.126, 'fmt': '12.60%'},\n",
       "     'grossMargins': {'raw': 0.56744, 'fmt': '56.74%'},\n",
       "     'ebitdaMargins': {'raw': 0.34834, 'fmt': '34.83%'},\n",
       "     'operatingMargins': {'raw': 0.29648, 'fmt': '29.65%'},\n",
       "     'profitMargins': {'raw': 0.25892, 'fmt': '25.89%'},\n",
       "     'financialCurrency': 'USD'}}],\n",
       "  'error': None}}"
      ]
     },
     "execution_count": 13,
     "metadata": {},
     "output_type": "execute_result"
    }
   ],
   "source": [
    "stock_json"
   ]
  },
  {
   "cell_type": "code",
   "execution_count": 14,
   "id": "9ed8a5a2",
   "metadata": {
    "scrolled": true
   },
   "outputs": [],
   "source": [
    "stock_json2 = response2.json()"
   ]
  },
  {
   "cell_type": "code",
   "execution_count": 15,
   "id": "e8337436",
   "metadata": {},
   "outputs": [
    {
     "data": {
      "text/plain": [
       "{'quoteSummary': {'result': [{'quoteType': {'exchange': 'NMS',\n",
       "     'quoteType': 'EQUITY',\n",
       "     'symbol': 'GOOG',\n",
       "     'underlyingSymbol': 'GOOG',\n",
       "     'shortName': 'Alphabet Inc.',\n",
       "     'longName': 'Alphabet Inc.',\n",
       "     'firstTradeDateEpochUtc': 1092922200,\n",
       "     'timeZoneFullName': 'America/New_York',\n",
       "     'timeZoneShortName': 'EDT',\n",
       "     'uuid': 'ee8cce8c-2475-31c0-8436-ecdf889cbfbd',\n",
       "     'messageBoardId': 'finmb_29096',\n",
       "     'gmtOffSetMilliseconds': -14400000,\n",
       "     'maxAge': 1}}],\n",
       "  'error': None}}"
      ]
     },
     "execution_count": 15,
     "metadata": {},
     "output_type": "execute_result"
    }
   ],
   "source": [
    "stock_json2"
   ]
  },
  {
   "cell_type": "code",
   "execution_count": 16,
   "id": "acba9721",
   "metadata": {},
   "outputs": [],
   "source": [
    "my_dict = stock_json['quoteSummary']['result'][0]['financialData']\n",
    "my_dict2=stock_json2['quoteSummary']['result'][0]['quoteType']"
   ]
  },
  {
   "cell_type": "code",
   "execution_count": 17,
   "id": "83cf1023",
   "metadata": {
    "scrolled": true
   },
   "outputs": [],
   "source": [
    "x = {\"Name of Ticker\" :stock,\n",
    "\"Full name of Stock\" :stock_json2['quoteSummary']['result'][0]['quoteType']['longName'],\n",
    "\"Current Price\" : stock_json['quoteSummary']['result'][0]['financialData']['currentPrice'],\n",
    "\"Target mean price\" :stock_json['quoteSummary']['result'][0]['financialData']['targetMeanPrice'],\n",
    "\"Total Cash\" :stock_json['quoteSummary']['result'][0]['financialData']['totalCash'],\n",
    "\"Profit Margins\" : stock_json['quoteSummary']['result'][0]['financialData']['profitMargins'],\n",
    "    \"Date Pulled\": \"10-16-2022\"}"
   ]
  },
  {
   "cell_type": "code",
   "execution_count": 18,
   "id": "b670d71f",
   "metadata": {},
   "outputs": [],
   "source": [
    "y = json.dumps(x)\n"
   ]
  },
  {
   "cell_type": "code",
   "execution_count": 19,
   "id": "bc4e2a9c",
   "metadata": {},
   "outputs": [],
   "source": [
    "z= json.loads(y)"
   ]
  },
  {
   "cell_type": "code",
   "execution_count": 20,
   "id": "1cf3a129",
   "metadata": {},
   "outputs": [
    {
     "data": {
      "text/plain": [
       "{'Name of Ticker': 'goog',\n",
       " 'Full name of Stock': 'Alphabet Inc.',\n",
       " 'Current Price': {'raw': 97.18, 'fmt': '97.18'},\n",
       " 'Target mean price': {'raw': 148.95, 'fmt': '148.95'},\n",
       " 'Total Cash': {'raw': 124997001216,\n",
       "  'fmt': '125B',\n",
       "  'longFmt': '124,997,001,216'},\n",
       " 'Profit Margins': {'raw': 0.25892, 'fmt': '25.89%'},\n",
       " 'Date Pulled': '10-16-2022'}"
      ]
     },
     "execution_count": 20,
     "metadata": {},
     "output_type": "execute_result"
    }
   ],
   "source": [
    "z"
   ]
  }
 ],
 "metadata": {
  "kernelspec": {
   "display_name": "Python 3 (ipykernel)",
   "language": "python",
   "name": "python3"
  },
  "language_info": {
   "codemirror_mode": {
    "name": "ipython",
    "version": 3
   },
   "file_extension": ".py",
   "mimetype": "text/x-python",
   "name": "python",
   "nbconvert_exporter": "python",
   "pygments_lexer": "ipython3",
   "version": "3.9.6"
  }
 },
 "nbformat": 4,
 "nbformat_minor": 5
}
